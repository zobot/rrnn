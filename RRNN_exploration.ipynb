{
 "cells": [
  {
   "cell_type": "code",
   "execution_count": 1,
   "metadata": {
    "collapsed": false
   },
   "outputs": [
    {
     "name": "stderr",
     "output_type": "stream",
     "text": [
      "/Users/zoe/cgt/cgt/__init__.py:15: UserWarning: \n",
      "    Could not import the compiled extension module cycgt\n",
      "    Only pure python mode is available. If you have compiled \"\n",
      "    this extension (via 'make'), you may need to add build/lib \n",
      "    to your PYTHONPATH. Try 'import cycgt' to debug the problem further.\n",
      "  warnings.warn(msg, UserWarning)\n"
     ]
    }
   ],
   "source": [
    "import cgt\n",
    "from cgt import nn, utils, display\n",
    "import numpy as np, numpy.random as nr\n",
    "from numpy.linalg import norm\n",
    "from param_collection import ParamCollection\n",
    "\n"
   ]
  },
  {
   "cell_type": "code",
   "execution_count": 2,
   "metadata": {
    "collapsed": true
   },
   "outputs": [],
   "source": [
    "k_in = 2\n",
    "k_h = 2\n",
    "size_x = 3\n",
    "size_mem = 4\n",
    "size_batch = 4"
   ]
  },
  {
   "cell_type": "code",
   "execution_count": 12,
   "metadata": {
    "collapsed": false
   },
   "outputs": [],
   "source": [
    "x = cgt.matrix(fixed_shape=(size_batch, size_x))\n",
    "xform_h_param = nn.TensorParam((2 * k_h, size_mem), name=\"rotxform\")\n",
    "xform_h_non = xform_h_param.weight\n",
    "xform_h_norm = cgt.norm(xform_h_non, axis=1, keepdims=True)\n",
    "xform_h = cgt.broadcast('/', xform_h_non, xform_h_norm, \"xx,x1\")\n",
    "\n",
    "prev_h = cgt.matrix(fixed_shape=(size_batch, size_mem))\n",
    "r_vec = nn.Affine(size_x, 2 * k_in * size_mem)(x)\n",
    "r_non = cgt.reshape(r_vec, (size_batch, 2 * k_in, size_mem))\n",
    "r_norm = cgt.norm(r_non, axis=2, keepdims=True)\n",
    "r = cgt.broadcast('/', r_non, r_norm, \"xxx,xx1\")\n",
    "prev_h_3 = cgt.reshape(prev_h, (size_batch, size_mem, 1))\n",
    "inters_in = [prev_h_3]\n",
    "\n",
    "colon = slice(None, None, None)\n",
    "\n",
    "for i in xrange(2 * k_in):\n",
    "    inter_in = inters_in[-1]\n",
    "    r_cur = cgt.subtensor(r, [colon, i, colon])\n",
    "    r_cur_3_transpose = cgt.reshape(r_cur, (size_batch, 1, size_mem))\n",
    "    r_cur_3 = cgt.reshape(r_cur, (size_batch, size_mem, 1))\n",
    "    ref_cur = cgt.batched_matmul(r_cur_3, cgt.batched_matmul(r_cur_3_transpose, inter_in))\n",
    "    inter_out = inter_in - 2 * ref_cur\n",
    "    inters_in.append(inter_out)\n",
    "\n",
    "h_in_rot = cgt.reshape(inters_in[-1], (size_batch, size_mem))\n",
    "inters_h = [h_in_rot]\n",
    "\n",
    "for i in xrange(2 * k_h):\n",
    "    inter_in = inters_h[-1]\n",
    "    r_cur = cgt.subtensor(xform_h, [i, colon])\n",
    "    r_cur_2_transpose = cgt.reshape(r_cur, (size_mem, 1))\n",
    "    r_cur_2 = cgt.reshape(r_cur, (1, size_mem))\n",
    "    ref_cur = cgt.dot(cgt.dot(inter_in, r_cur_2_transpose), r_cur_2)\n",
    "    inter_out = inter_in - 2 * ref_cur\n",
    "    inters_h.append(inter_out)\n",
    "h = inters_h[-1]\n",
    "    \n",
    "\n",
    "#h = h_in_rot\n",
    "\n",
    "    \n",
    "r_nn = nn.Module([x], [h])"
   ]
  },
  {
   "cell_type": "code",
   "execution_count": 13,
   "metadata": {
    "collapsed": false
   },
   "outputs": [],
   "source": [
    "params = r_nn.get_parameters()\n",
    "pc = ParamCollection(params)\n",
    "pc.set_value_flat(nr.uniform(-.1, .1, size=(pc.get_total_size(),)))\n",
    "func = cgt.function([x, prev_h], h)"
   ]
  },
  {
   "cell_type": "code",
   "execution_count": 14,
   "metadata": {
    "collapsed": false
   },
   "outputs": [
    {
     "name": "stdout",
     "output_type": "stream",
     "text": [
      "[[ 0.46639985 -0.13617726 -0.83365595  0.26257211]\n",
      " [ 0.52262288 -0.0058302  -0.79804057  0.29993784]\n",
      " [ 0.4850145   0.03708118 -0.80431843  0.34125924]\n",
      " [ 0.63327622  0.1306653  -0.71277249  0.27174002]]\n",
      "[ 0.9999997  1.         1.         0.9999997]\n",
      "[ 1.  1.  1.  1.]\n"
     ]
    }
   ],
   "source": [
    "x_in = nr.uniform(-.1, .1, size=(size_batch * size_x)).reshape(size_batch, size_x)\n",
    "h_in = np.zeros((size_batch, size_mem))\n",
    "h_in[:, 0] = np.ones(size_batch)\n",
    "h = func(x_in, h_in)\n",
    "print h\n",
    "print norm(h, axis=1)\n",
    "print norm(h_in, axis=1)\n"
   ]
  },
  {
   "cell_type": "code",
   "execution_count": 36,
   "metadata": {
    "collapsed": true
   },
   "outputs": [],
   "source": [
    "slice?"
   ]
  },
  {
   "cell_type": "code",
   "execution_count": null,
   "metadata": {
    "collapsed": true
   },
   "outputs": [],
   "source": []
  }
 ],
 "metadata": {
  "kernelspec": {
   "display_name": "Python 2",
   "language": "python",
   "name": "python2"
  },
  "language_info": {
   "codemirror_mode": {
    "name": "ipython",
    "version": 2
   },
   "file_extension": ".py",
   "mimetype": "text/x-python",
   "name": "python",
   "nbconvert_exporter": "python",
   "pygments_lexer": "ipython2",
   "version": "2.7.10"
  }
 },
 "nbformat": 4,
 "nbformat_minor": 0
}
